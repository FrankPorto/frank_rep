{
  "nbformat": 4,
  "nbformat_minor": 0,
  "metadata": {
    "colab": {
      "provenance": [],
      "mount_file_id": "1Pqy8Vf4kiU2X8cw1fR9tf-7sfuMbDp6F",
      "authorship_tag": "ABX9TyMW+kQ+GSfhELVZtn+zQaT+",
      "include_colab_link": true
    },
    "kernelspec": {
      "name": "python3",
      "display_name": "Python 3"
    },
    "language_info": {
      "name": "python"
    }
  },
  "cells": [
    {
      "cell_type": "markdown",
      "metadata": {
        "id": "view-in-github",
        "colab_type": "text"
      },
      "source": [
        "<a href=\"https://colab.research.google.com/github/FrankPorto/frank_rep/blob/main/MVP2_b_Franklin_da_Silva_Porto.ipynb\" target=\"_parent\"><img src=\"https://colab.research.google.com/assets/colab-badge.svg\" alt=\"Open In Colab\"/></a>"
      ]
    },
    {
      "cell_type": "markdown",
      "source": [
        "MVP II - PARTE b: REDE NEURAL CONVOLUCIONAL PARA RECONHECIMENTO DE IMAGENS\n",
        "\n",
        "**PARTE b)**\n",
        "\n",
        "\n",
        "**1.   *Introdução***\n",
        "\n",
        "A parte b deste MVP, apresenta uma Rede Neural Convolucional, de aprendizado Supervisionado, do tipo Classificação.\n",
        "\n",
        "**2.   *Definição do problema***\n",
        "\n",
        "  2.1 *Qual é a descrição do problema?*\n",
        "\n",
        "A proposta desta parte do MVP é, após o treino com um dataset de arquivos de imagens de gatos,  interpretar se uma imagem de um animal qualquer é ou não de um gato.\n",
        "\n",
        "  2.2 *Você tem premissas ou hipóteses sobre o problema? Quais?*\n",
        "\n",
        "Basicamente, trata-se de um projeto para identificação de imagens.\n",
        "\n",
        "  2.3 *Que restrições ou condições foram impostas para selecionar os dados?*\n",
        "\n",
        "Buscar imagens de referidos animais na Internet\n",
        "\n",
        "  2.4 *Descreva o seu dataset (atributos, imagens, anotações, etc).*\n",
        "\n",
        "O Dataset, trata-se de uma pasta com várias fotos de gatos para treino e fotos de animais para teste.\n",
        "\n",
        "\n",
        "**3.   *Pré-processamento***\n",
        "\n",
        "  3.1 *Definição dos atributos/colunas do Dataset*\n",
        "\n",
        "Por se tratar exclusivamente de arquivos de imagens com o objetivo de identificação, o Dataset não possui atributos ou colunas.\n",
        "\n",
        "**4.   *Análise dos Dados***"
      ],
      "metadata": {
        "id": "X4laGPMfyjoz"
      }
    },
    {
      "cell_type": "code",
      "execution_count": 1,
      "metadata": {
        "id": "7dGlyebNyhoQ"
      },
      "outputs": [],
      "source": [
        "#Importação das bibliotecas\n",
        "#Devido à rede ser Convolucional, utilizarei a Tensorflow e a Kerras\n",
        "import warnings\n",
        "warnings.filterwarnings('ignore')\n",
        "\n",
        "import pandas as pd\n",
        "import numpy as np\n",
        "import matplotlib.pyplot as plt\n",
        "import tensorflow as tf\n",
        "from tensorflow.keras.models import Sequential\n",
        "from tensorflow.keras.layers import Conv2D, MaxPooling2D, Flatten, Dense\n",
        "from tensorflow.keras.preprocessing.image import ImageDataGenerator\n",
        "from tensorflow.keras.preprocessing import image\n",
        "\n",
        "#Montando a Rede Neural CNN\n",
        "modelo = Sequential([\n",
        "    Conv2D(32, (3, 3), activation='relu', input_shape=(150, 150, 3)),\n",
        "    MaxPooling2D(2, 2),\n",
        "    Conv2D(64, (3, 3), activation='relu'),\n",
        "    MaxPooling2D(2, 2),\n",
        "    Conv2D(128, (3, 3), activation='relu'),\n",
        "    MaxPooling2D(2, 2),\n",
        "    Flatten(),\n",
        "    Dense(128, activation='relu'),\n",
        "    Dense(1, activation='sigmoid')\n",
        "])\n"
      ]
    },
    {
      "cell_type": "markdown",
      "source": [
        "*4.1 Compilação do Modelo*"
      ],
      "metadata": {
        "id": "X-mwAcP9y0zG"
      }
    },
    {
      "cell_type": "code",
      "source": [
        "modelo.compile(optimizer='adam', loss='binary_crossentropy', metrics=['accuracy'])\n"
      ],
      "metadata": {
        "id": "QrH-zs_Y8UDf"
      },
      "execution_count": null,
      "outputs": []
    },
    {
      "cell_type": "markdown",
      "source": [
        "*4.2 Pré-processar e gerar lotes de imagens*"
      ],
      "metadata": {
        "id": "SiCz5kVF8oyN"
      }
    },
    {
      "cell_type": "code",
      "source": [
        "train_datagen = ImageDataGenerator(rescale=1./255)\n",
        "train_generator = train_datagen.flow_from_directory(\n",
        "  directory='https://github.com/FrankPorto/frank_rep/tree/main/Treino',\n",
        "    target_size=(150, 150),\n",
        "    batch_size=32,\n",
        "    class_mode='binary'\n",
        ")\n",
        "\n",
        "teste_datagen = ImageDataGenerator(rescale=1./255)\n",
        "teste_generator = validation_datagen.flow_from_directory(\n",
        "    'https://github.com/FrankPorto/frank_rep/tree/main/Teste/',\n",
        "    target_size=(150, 150),\n",
        "    batch_size=32,\n",
        "    class_mode='binary'\n",
        ")\n"
      ],
      "metadata": {
        "id": "ZNApWYGs8lPQ"
      },
      "execution_count": null,
      "outputs": []
    },
    {
      "cell_type": "code",
      "source": [
        "from google.colab import drive\n",
        "drive.mount('/content/drive')"
      ],
      "metadata": {
        "id": "FZRp7bIp-_ry",
        "colab": {
          "base_uri": "https://localhost:8080/"
        },
        "outputId": "6626259a-a51d-4b80-d292-b1dcd26b6375"
      },
      "execution_count": null,
      "outputs": [
        {
          "output_type": "stream",
          "name": "stdout",
          "text": [
            "Drive already mounted at /content/drive; to attempt to forcibly remount, call drive.mount(\"/content/drive\", force_remount=True).\n"
          ]
        }
      ]
    },
    {
      "cell_type": "markdown",
      "source": [
        "Treinar o Modelo"
      ],
      "metadata": {
        "id": "7pfS5hy4885P"
      }
    },
    {
      "cell_type": "code",
      "source": [
        "history = modelo.fit(\n",
        "    train_generator,\n",
        "    steps_per_epoch=len(train_generator),\n",
        "    epochs=10,\n",
        "    validation_data=validation_generator,\n",
        "    validation_steps=len(validation_generator)\n",
        ")\n",
        "history"
      ],
      "metadata": {
        "id": "sasTJLdt865G",
        "colab": {
          "base_uri": "https://localhost:8080/"
        },
        "outputId": "af08ec5d-58f3-4b25-e67c-85fa342735fe"
      },
      "execution_count": null,
      "outputs": [
        {
          "output_type": "stream",
          "name": "stdout",
          "text": [
            "Epoch 1/10\n",
            "10/10 [==============================] - 20s 2s/step - loss: 0.0000e+00 - accuracy: 1.0000\n",
            "Epoch 2/10\n",
            "10/10 [==============================] - 18s 2s/step - loss: 0.0000e+00 - accuracy: 1.0000\n",
            "Epoch 3/10\n",
            "10/10 [==============================] - 18s 2s/step - loss: 0.0000e+00 - accuracy: 1.0000\n",
            "Epoch 4/10\n",
            "10/10 [==============================] - 18s 2s/step - loss: 0.0000e+00 - accuracy: 1.0000\n",
            "Epoch 5/10\n",
            "10/10 [==============================] - 24s 2s/step - loss: 0.0000e+00 - accuracy: 1.0000\n",
            "Epoch 6/10\n",
            "10/10 [==============================] - 19s 2s/step - loss: 0.0000e+00 - accuracy: 1.0000\n",
            "Epoch 7/10\n",
            "10/10 [==============================] - 18s 2s/step - loss: 0.0000e+00 - accuracy: 1.0000\n",
            "Epoch 8/10\n",
            "10/10 [==============================] - 20s 2s/step - loss: 0.0000e+00 - accuracy: 1.0000\n",
            "Epoch 9/10\n",
            "10/10 [==============================] - 18s 2s/step - loss: 0.0000e+00 - accuracy: 1.0000\n",
            "Epoch 10/10\n",
            "10/10 [==============================] - 18s 2s/step - loss: 0.0000e+00 - accuracy: 1.0000\n"
          ]
        },
        {
          "output_type": "execute_result",
          "data": {
            "text/plain": [
              "<keras.callbacks.History at 0x7c4ade26aa10>"
            ]
          },
          "metadata": {},
          "execution_count": 71
        }
      ]
    },
    {
      "cell_type": "code",
      "source": [
        "\n",
        "print(history.history.keys())\n",
        "\n",
        "\n",
        "# Plotar o desempenho do treinamento\n",
        "plt.figure(figsize=(12, 6))\n",
        "\n",
        "# Plotar a acurácia\n",
        "plt.subplot(1, 2, 1)\n",
        "plt.plot(history.history['accuracy'], label='Acurácia (treinamento)')\n",
        "plt.plot(history.history['val_accuracy'], label='Acurácia (validação)')\n",
        "plt.xlabel('Épocas')\n",
        "plt.ylabel('Acurácia')\n",
        "plt.legend()\n",
        "\n",
        "# Plotar a perda\n",
        "plt.subplot(1, 2, 2)\n",
        "plt.plot(history.history['loss'], label='Perda (treinamento)')\n",
        "plt.plot(history.history['val_loss'], label='Perda (validação)')\n",
        "plt.xlabel('Épocas')\n",
        "plt.ylabel('Perda')\n",
        "plt.legend()\n",
        "\n",
        "plt.tight_layout()\n",
        "plt.show()"
      ],
      "metadata": {
        "colab": {
          "base_uri": "https://localhost:8080/",
          "height": 758
        },
        "id": "S5wlwHFeI7Cb",
        "outputId": "d566cdd3-cef9-4cb8-ea7c-2c1321d45c9a"
      },
      "execution_count": null,
      "outputs": [
        {
          "output_type": "stream",
          "name": "stdout",
          "text": [
            "dict_keys(['loss', 'accuracy'])\n"
          ]
        },
        {
          "output_type": "error",
          "ename": "KeyError",
          "evalue": "ignored",
          "traceback": [
            "\u001b[0;31m---------------------------------------------------------------------------\u001b[0m",
            "\u001b[0;31mKeyError\u001b[0m                                  Traceback (most recent call last)",
            "\u001b[0;32m<ipython-input-72-3bf5cbed6284>\u001b[0m in \u001b[0;36m<cell line: 10>\u001b[0;34m()\u001b[0m\n\u001b[1;32m      8\u001b[0m \u001b[0mplt\u001b[0m\u001b[0;34m.\u001b[0m\u001b[0msubplot\u001b[0m\u001b[0;34m(\u001b[0m\u001b[0;36m1\u001b[0m\u001b[0;34m,\u001b[0m \u001b[0;36m2\u001b[0m\u001b[0;34m,\u001b[0m \u001b[0;36m1\u001b[0m\u001b[0;34m)\u001b[0m\u001b[0;34m\u001b[0m\u001b[0;34m\u001b[0m\u001b[0m\n\u001b[1;32m      9\u001b[0m \u001b[0mplt\u001b[0m\u001b[0;34m.\u001b[0m\u001b[0mplot\u001b[0m\u001b[0;34m(\u001b[0m\u001b[0mhistory\u001b[0m\u001b[0;34m.\u001b[0m\u001b[0mhistory\u001b[0m\u001b[0;34m[\u001b[0m\u001b[0;34m'accuracy'\u001b[0m\u001b[0;34m]\u001b[0m\u001b[0;34m,\u001b[0m \u001b[0mlabel\u001b[0m\u001b[0;34m=\u001b[0m\u001b[0;34m'Acurácia (treinamento)'\u001b[0m\u001b[0;34m)\u001b[0m\u001b[0;34m\u001b[0m\u001b[0;34m\u001b[0m\u001b[0m\n\u001b[0;32m---> 10\u001b[0;31m \u001b[0mplt\u001b[0m\u001b[0;34m.\u001b[0m\u001b[0mplot\u001b[0m\u001b[0;34m(\u001b[0m\u001b[0mhistory\u001b[0m\u001b[0;34m.\u001b[0m\u001b[0mhistory\u001b[0m\u001b[0;34m[\u001b[0m\u001b[0;34m'val_accuracy'\u001b[0m\u001b[0;34m]\u001b[0m\u001b[0;34m,\u001b[0m \u001b[0mlabel\u001b[0m\u001b[0;34m=\u001b[0m\u001b[0;34m'Acurácia (validação)'\u001b[0m\u001b[0;34m)\u001b[0m\u001b[0;34m\u001b[0m\u001b[0;34m\u001b[0m\u001b[0m\n\u001b[0m\u001b[1;32m     11\u001b[0m \u001b[0mplt\u001b[0m\u001b[0;34m.\u001b[0m\u001b[0mxlabel\u001b[0m\u001b[0;34m(\u001b[0m\u001b[0;34m'Épocas'\u001b[0m\u001b[0;34m)\u001b[0m\u001b[0;34m\u001b[0m\u001b[0;34m\u001b[0m\u001b[0m\n\u001b[1;32m     12\u001b[0m \u001b[0mplt\u001b[0m\u001b[0;34m.\u001b[0m\u001b[0mylabel\u001b[0m\u001b[0;34m(\u001b[0m\u001b[0;34m'Acurácia'\u001b[0m\u001b[0;34m)\u001b[0m\u001b[0;34m\u001b[0m\u001b[0;34m\u001b[0m\u001b[0m\n",
            "\u001b[0;31mKeyError\u001b[0m: 'val_accuracy'"
          ]
        },
        {
          "output_type": "display_data",
          "data": {
            "text/plain": [
              "<Figure size 1200x600 with 1 Axes>"
            ],
            "image/png": "[encoded data removed]"
          },
          "metadata": {}
        }
      ]
    },
    {
      "cell_type": "code",
      "source": [
        "# Fazer previsão\n",
        "\n",
        "def predict_image(image_path):\n",
        "    img = image.load_img(image_path, target_size=(150, 150))\n",
        "    img_array = image.img_to_array(img)\n",
        "    img_array = np.expand_dims(img_array, axis=0)\n",
        "    img_array /= 255.0\n",
        "    prediction = modelo.predict(img_array)\n",
        "\n",
        "\n",
        "    if prediction[0][0] > 0.5:\n",
        "       return \"É um gato!\"\n",
        "    else:\n",
        "       return \"Não é um gato.\"\n"
      ],
      "metadata": {
        "id": "6pVBH5gG9fMA"
      },
      "execution_count": null,
      "outputs": []
    }
  ]
}